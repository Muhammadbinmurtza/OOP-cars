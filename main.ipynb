{
 "cells": [
  {
   "cell_type": "code",
   "execution_count": null,
   "metadata": {},
   "outputs": [],
   "source": [
    "# Car guessing program\n",
    "\n",
    "# Step 1: Input car data\n",
    "car_data = [\n",
    "    {\"brand\": \"Toyota\", \"model\": \"Corolla\", \"speed\": 180, \"color\": \"White\", \"type\": \"Sedan\"},\n",
    "    {\"brand\": \"Honda\", \"model\": \"Civic\", \"speed\": 200, \"color\": \"Black\", \"type\": \"Sedan\"},\n",
    "    {\"brand\": \"Ford\", \"model\": \"Mustang\", \"speed\": 250, \"color\": \"Red\", \"type\": \"Sports\"},\n",
    "    {\"brand\": \"Tesla\", \"model\": \"Model S\", \"speed\": 240, \"color\": \"Blue\", \"type\": \"Electric\"},\n",
    "    {\"brand\": \"BMW\", \"model\": \"X5\", \"speed\": 220, \"color\": \"Grey\", \"type\": \"SUV\"},\n",
    "]\n",
    "\n",
    "def find_car(properties):\n",
    "    \"\"\"\n",
    "    Find the car based on input properties.\n",
    "    :param properties: Dictionary of user inputs for car properties.\n",
    "    :return: Best-matching car or a message if no match is found.\n",
    "    \"\"\"\n",
    "    matches = []\n",
    "    for car in car_data:\n",
    "        match_score = 0\n",
    "        for key, value in properties.items():\n",
    "            if key in car and str(car[key]).lower() == str(value).lower():\n",
    "                match_score += 1\n",
    "        if match_score > 0:\n",
    "            matches.append((match_score, car))\n",
    "\n",
    "    if matches:\n",
    "        # Sort matches by the highest match score\n",
    "        matches.sort(reverse=True, key=lambda x: x[0])\n",
    "        best_match = matches[0][1]\n",
    "        return f\"Best guess: {best_match['brand']} {best_match['model']}\"\n",
    "    else:\n",
    "        return \"No matching car found.\"\n",
    "\n",
    "# Step 2: User inputs car properties\n",
    "print(\"Welcome to the Car Guessing Program!\")\n",
    "print(\"Please provide car properties to guess the car (e.g., speed, color, type).\")\n",
    "print(\"Type 'done' when finished.\")\n",
    "\n",
    "user_properties = {}\n",
    "while True:\n",
    "    key = input(\"Enter property name (e.g., speed, color): \").strip().lower()\n",
    "    if key == 'done':\n",
    "        break\n",
    "    value = input(f\"Enter value for {key}: \").strip()\n",
    "    user_properties[key] = value\n",
    "\n",
    "# Step 3: Guess the car\n",
    "if user_properties:\n",
    "    result = find_car(user_properties)\n",
    "    print(result)\n",
    "else:\n",
    "    print(\"No properties entered. Exiting the program.\")\n"
   ]
  },
  {
   "cell_type": "code",
   "execution_count": null,
   "metadata": {},
   "outputs": [
    {
     "name": "stdout",
     "output_type": "stream",
     "text": [
      "Mango\n"
     ]
    }
   ],
   "source": [
    "thislist = [\"apple\",\"mango\",\"banana\"]\n",
    "print(thislist[1].title())\n",
    "print()"
   ]
  }
 ],
 "metadata": {
  "kernelspec": {
   "display_name": "Python13",
   "language": "python",
   "name": "python3"
  },
  "language_info": {
   "codemirror_mode": {
    "name": "ipython",
    "version": 3
   },
   "file_extension": ".py",
   "mimetype": "text/x-python",
   "name": "python",
   "nbconvert_exporter": "python",
   "pygments_lexer": "ipython3",
   "version": "3.12.4"
  }
 },
 "nbformat": 4,
 "nbformat_minor": 2
}
